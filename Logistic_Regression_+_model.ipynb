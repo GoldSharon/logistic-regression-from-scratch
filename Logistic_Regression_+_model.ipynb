{
 "cells": [
  {
   "cell_type": "markdown",
   "metadata": {},
   "source": [
    "# Logistic Regression\n",
    "\n",
    "## Equation `Ý = 1/ (1+e`<sup>`-z`</sup>`)`\n",
    "\n",
    "\n",
    "### Where\n",
    "\n",
    "### Z = w.X + b \n",
    "\n",
    "### Ý = Probability that y=1  or Ý = P(y=1 | X)  \n",
    "\n",
    "### y = Actual Label\n",
    "\n",
    "### Ý  (or) h(∅) = Predicted \n",
    "\n",
    "### X = Input features\n",
    "\n",
    "### b = bias\n",
    "\n",
    "\n",
    "## Loss Function\n",
    "\n",
    "### Binary Cross Entropy (OR) Log loss `L(y,Ý) =  -(y log (Ý) + (1-y) log (1-Ý))`\n",
    "\n",
    "<ol>\n",
    "    <li><Strong>When y=1</Strong></li><br><p> L(1,Ý) =  -log (Ý)</p>\n",
    "    <p>We need a big \"Ý\" to get small loss because big \"Ý\" value leads to small value </p> i.e small = -log(big)<br><br>     \n",
    "    <li><Strong>When y=0</Strong></li><p> L(0,Ý) =  -log(1-Ý)</p>\n",
    "    <p>We need a small \"Ý\" to get small loss because small \"Ý\" value leads to small value </p> i.e big = -log(1-small)<br><br>\n",
    "\n",
    "</ol>\n",
    "\n",
    "\n",
    "w = w - a * dw\n",
    "\n",
    "b = b - a * db\n",
    "\n",
    "\n",
    "## Derivative\n",
    "\n",
    "`1. dw = 1/m * (Ý -Y).X`\n",
    "\n",
    "`2. db = 1/m * (Ý -Y)`"
   ]
  },
  {
   "cell_type": "code",
   "execution_count": 1,
   "metadata": {},
   "outputs": [],
   "source": [
    "import numpy as np"
   ]
  },
  {
   "cell_type": "code",
   "execution_count": 2,
   "metadata": {},
   "outputs": [],
   "source": [
    "class Logistic_Regression:\n",
    "    \n",
    "    def __init__(self,learning_rate=0.01,num_of_iter=1000):\n",
    "        \n",
    "        self.learning_rate = learning_rate\n",
    "        \n",
    "        self.num_of_iter = num_of_iter\n",
    "        \n",
    "        self.weights = None\n",
    "        \n",
    "        self.bias = 0\n",
    "        \n",
    "        self.rows = None\n",
    "        \n",
    "        self.cols = None\n",
    "        \n",
    "    def fit(self,X,y):\n",
    "        \n",
    "        self.rows , self.cols = X.shape\n",
    "        \n",
    "        self.weights = np.zeros((self.cols,1))\n",
    "        \n",
    "        for i in range(self.num_of_iter):\n",
    "            \n",
    "            self.update_weights(X,y.reshape(-1,1))\n",
    "            \n",
    "    \n",
    "    \n",
    "    def predict(self,X):\n",
    "        \n",
    "        z =  (X @ (self.weights) + self.bias ) \n",
    "        \n",
    "        y_pred = 1/(1+np.exp(-z))\n",
    "        \n",
    "        y_pred = np.where(y_pred>0.5,1,0)\n",
    "        \n",
    "        return y_pred\n",
    "        \n",
    "        \n",
    "    def update_weights(self, X, y):\n",
    "        z = (X @ self.weights + self.bias)\n",
    "        Ý = 1 / (1 + np.exp(-z))\n",
    "        \n",
    "        # Compute gradients\n",
    "        dw = (1 / self.rows) * (X.T @ (Ý - y))  # Gradient w.r.t weights\n",
    "        db = (1 / self.rows) * np.sum(Ý - y)     # Gradient w.r.t bias\n",
    "        \n",
    "        # Update weights and bias\n",
    "        self.weights -= self.learning_rate * dw\n",
    "        self.bias -= self.learning_rate * db\n",
    "        \n",
    "        "
   ]
  },
  {
   "cell_type": "code",
   "execution_count": 3,
   "metadata": {},
   "outputs": [],
   "source": [
    "def train_test_split(X, y, test_size=0.2, random_state=None):\n",
    "\n",
    "  if random_state:\n",
    "    np.random.seed(random_state)\n",
    "\n",
    "  indices = list(range(len(X)))\n",
    "  np.random.shuffle(indices)\n",
    "\n",
    "  test_size = int(len(X) * test_size)\n",
    "  test_indices = indices[:test_size]\n",
    "  train_indices = indices[test_size:]\n",
    "\n",
    "  X_train, X_test = X[train_indices], X[test_indices]\n",
    "  y_train, y_test = y[train_indices], y[test_indices]\n",
    "\n",
    "  return X_train, X_test, y_train, y_test"
   ]
  },
  {
   "cell_type": "markdown",
   "metadata": {},
   "source": [
    "# Testing Module"
   ]
  },
  {
   "cell_type": "code",
   "execution_count": 4,
   "metadata": {},
   "outputs": [],
   "source": [
    "import pandas as pd\n",
    "\n",
    "from sklearn.metrics import accuracy_score"
   ]
  },
  {
   "cell_type": "code",
   "execution_count": 5,
   "metadata": {},
   "outputs": [],
   "source": [
    "df = pd.read_csv(\"diabetes_prediction_dataset.csv\")"
   ]
  },
  {
   "cell_type": "code",
   "execution_count": 6,
   "metadata": {},
   "outputs": [
    {
     "data": {
      "text/html": [
       "<div>\n",
       "<style scoped>\n",
       "    .dataframe tbody tr th:only-of-type {\n",
       "        vertical-align: middle;\n",
       "    }\n",
       "\n",
       "    .dataframe tbody tr th {\n",
       "        vertical-align: top;\n",
       "    }\n",
       "\n",
       "    .dataframe thead th {\n",
       "        text-align: right;\n",
       "    }\n",
       "</style>\n",
       "<table border=\"1\" class=\"dataframe\">\n",
       "  <thead>\n",
       "    <tr style=\"text-align: right;\">\n",
       "      <th></th>\n",
       "      <th>gender</th>\n",
       "      <th>age</th>\n",
       "      <th>hypertension</th>\n",
       "      <th>heart_disease</th>\n",
       "      <th>smoking_history</th>\n",
       "      <th>bmi</th>\n",
       "      <th>HbA1c_level</th>\n",
       "      <th>blood_glucose_level</th>\n",
       "      <th>diabetes</th>\n",
       "    </tr>\n",
       "  </thead>\n",
       "  <tbody>\n",
       "    <tr>\n",
       "      <th>0</th>\n",
       "      <td>Female</td>\n",
       "      <td>80.0</td>\n",
       "      <td>0</td>\n",
       "      <td>1</td>\n",
       "      <td>never</td>\n",
       "      <td>25.19</td>\n",
       "      <td>6.6</td>\n",
       "      <td>140</td>\n",
       "      <td>0</td>\n",
       "    </tr>\n",
       "    <tr>\n",
       "      <th>1</th>\n",
       "      <td>Female</td>\n",
       "      <td>54.0</td>\n",
       "      <td>0</td>\n",
       "      <td>0</td>\n",
       "      <td>No Info</td>\n",
       "      <td>27.32</td>\n",
       "      <td>6.6</td>\n",
       "      <td>80</td>\n",
       "      <td>0</td>\n",
       "    </tr>\n",
       "    <tr>\n",
       "      <th>2</th>\n",
       "      <td>Male</td>\n",
       "      <td>28.0</td>\n",
       "      <td>0</td>\n",
       "      <td>0</td>\n",
       "      <td>never</td>\n",
       "      <td>27.32</td>\n",
       "      <td>5.7</td>\n",
       "      <td>158</td>\n",
       "      <td>0</td>\n",
       "    </tr>\n",
       "    <tr>\n",
       "      <th>3</th>\n",
       "      <td>Female</td>\n",
       "      <td>36.0</td>\n",
       "      <td>0</td>\n",
       "      <td>0</td>\n",
       "      <td>current</td>\n",
       "      <td>23.45</td>\n",
       "      <td>5.0</td>\n",
       "      <td>155</td>\n",
       "      <td>0</td>\n",
       "    </tr>\n",
       "    <tr>\n",
       "      <th>4</th>\n",
       "      <td>Male</td>\n",
       "      <td>76.0</td>\n",
       "      <td>1</td>\n",
       "      <td>1</td>\n",
       "      <td>current</td>\n",
       "      <td>20.14</td>\n",
       "      <td>4.8</td>\n",
       "      <td>155</td>\n",
       "      <td>0</td>\n",
       "    </tr>\n",
       "  </tbody>\n",
       "</table>\n",
       "</div>"
      ],
      "text/plain": [
       "   gender   age  hypertension  heart_disease smoking_history    bmi  \\\n",
       "0  Female  80.0             0              1           never  25.19   \n",
       "1  Female  54.0             0              0         No Info  27.32   \n",
       "2    Male  28.0             0              0           never  27.32   \n",
       "3  Female  36.0             0              0         current  23.45   \n",
       "4    Male  76.0             1              1         current  20.14   \n",
       "\n",
       "   HbA1c_level  blood_glucose_level  diabetes  \n",
       "0          6.6                  140         0  \n",
       "1          6.6                   80         0  \n",
       "2          5.7                  158         0  \n",
       "3          5.0                  155         0  \n",
       "4          4.8                  155         0  "
      ]
     },
     "execution_count": 6,
     "metadata": {},
     "output_type": "execute_result"
    }
   ],
   "source": [
    "df.head()"
   ]
  },
  {
   "cell_type": "code",
   "execution_count": 7,
   "metadata": {},
   "outputs": [
    {
     "data": {
      "text/plain": [
       "gender                 0\n",
       "age                    0\n",
       "hypertension           0\n",
       "heart_disease          0\n",
       "smoking_history        0\n",
       "bmi                    0\n",
       "HbA1c_level            0\n",
       "blood_glucose_level    0\n",
       "diabetes               0\n",
       "dtype: int64"
      ]
     },
     "execution_count": 7,
     "metadata": {},
     "output_type": "execute_result"
    }
   ],
   "source": [
    "df.isnull().sum()"
   ]
  },
  {
   "cell_type": "markdown",
   "metadata": {},
   "source": [
    "### Basic Pre Processing"
   ]
  },
  {
   "cell_type": "code",
   "execution_count": 8,
   "metadata": {},
   "outputs": [],
   "source": [
    "df.loc[df['gender'] == 'Other', 'gender'] = 'Female'\n",
    "\n",
    "df['gender'] = pd.get_dummies(df['gender'],drop_first=True).astype(int)\n",
    "\n",
    "df.drop(columns='smoking_history',inplace=bool(1))"
   ]
  },
  {
   "cell_type": "code",
   "execution_count": 9,
   "metadata": {},
   "outputs": [],
   "source": [
    "X , x ,Y , y = train_test_split(df.iloc[:,:-1].values,df.iloc[:,-1].values)"
   ]
  },
  {
   "cell_type": "code",
   "execution_count": 10,
   "metadata": {},
   "outputs": [],
   "source": [
    "model = Logistic_Regression()\n",
    "\n",
    "model.fit(X, Y)"
   ]
  },
  {
   "cell_type": "code",
   "execution_count": 11,
   "metadata": {},
   "outputs": [],
   "source": [
    "y_pred = model.predict(x)"
   ]
  },
  {
   "cell_type": "code",
   "execution_count": 13,
   "metadata": {},
   "outputs": [
    {
     "name": "stdout",
     "output_type": "stream",
     "text": [
      "The Accuracy is 91.39500000000001 %\n"
     ]
    }
   ],
   "source": [
    "print(\"The Accuracy is \"+str(accuracy_score(y,y_pred)*100),\"%\")"
   ]
  },
  {
   "cell_type": "code",
   "execution_count": null,
   "metadata": {},
   "outputs": [],
   "source": []
  },
  {
   "cell_type": "code",
   "execution_count": null,
   "metadata": {},
   "outputs": [],
   "source": []
  },
  {
   "cell_type": "code",
   "execution_count": null,
   "metadata": {},
   "outputs": [],
   "source": []
  },
  {
   "cell_type": "code",
   "execution_count": null,
   "metadata": {},
   "outputs": [],
   "source": []
  },
  {
   "cell_type": "code",
   "execution_count": null,
   "metadata": {},
   "outputs": [],
   "source": []
  },
  {
   "cell_type": "code",
   "execution_count": null,
   "metadata": {},
   "outputs": [],
   "source": []
  }
 ],
 "metadata": {
  "kernelspec": {
   "display_name": "base",
   "language": "python",
   "name": "python3"
  },
  "language_info": {
   "codemirror_mode": {
    "name": "ipython",
    "version": 3
   },
   "file_extension": ".py",
   "mimetype": "text/x-python",
   "name": "python",
   "nbconvert_exporter": "python",
   "pygments_lexer": "ipython3",
   "version": "3.11.7"
  }
 },
 "nbformat": 4,
 "nbformat_minor": 2
}
